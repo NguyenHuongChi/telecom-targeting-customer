{
 "cells": [
  {
   "cell_type": "code",
   "execution_count": 6,
   "id": "46993997-e295-4ed0-b78d-593fd348d71a",
   "metadata": {},
   "outputs": [],
   "source": [
    "import pandas as pd\n",
    "import numpy as np\n",
    "\n",
    "df=pd.read_csv(\"wallacecommunications.csv\")"
   ]
  },
  {
   "cell_type": "code",
   "execution_count": 7,
   "id": "f16ddaf9-46d7-4029-8bd7-7f50ec1155d9",
   "metadata": {},
   "outputs": [],
   "source": [
    "targetName=\"new_contract_this_campaign\"\n",
    "allFeatureNames=df.columns[df.columns != targetName]\n",
    "X = df[allFeatureNames]\n",
    "y = df[targetName]"
   ]
  },
  {
   "cell_type": "code",
   "execution_count": 8,
   "id": "5ab9492c-a7ff-436d-8f83-721eb3dd89a5",
   "metadata": {},
   "outputs": [],
   "source": [
    "from sklearn.model_selection import train_test_split\n",
    "X_train, X_test, y_train, y_test = train_test_split(X, y, test_size=0.3, random_state=402)"
   ]
  },
  {
   "cell_type": "code",
   "execution_count": 9,
   "id": "1452165e-a659-498a-8e98-fd8617d034a4",
   "metadata": {},
   "outputs": [],
   "source": [
    "X_train = X_train.reset_index(drop=True)\n",
    "y_train = y_train.reset_index(drop=True)"
   ]
  },
  {
   "cell_type": "code",
   "execution_count": 10,
   "id": "9caa6400-4820-4c02-abcf-1ae440140945",
   "metadata": {},
   "outputs": [],
   "source": [
    "X_train_cleaned = X_train[(X_train.country==\"UK\") & (X_train.last_contact_this_campaign_month!=\"j\")]\n",
    "y_train_cleaned = y_train[(X_train.country==\"UK\") & (X_train.last_contact_this_campaign_month!=\"j\")] \n",
    "\n",
    "X_train_cleaned = X_train_cleaned.reset_index(drop=True)\n",
    "y_train_cleaned = y_train_cleaned.reset_index(drop=True)\n",
    "\n",
    "selected_features = ['job','married','education','arrears','current_balance','housing',\n",
    "                     'has_tv_package','last_contact','conn_tr','last_contact_this_campaign_day','last_contact_this_campaign_month','this_campaign','days_since_last_contact_previous_campaign','contacted_during_previous_campaign','outcome_previous_campaign','age']\n",
    "\n",
    "X_train_cleaned = X_train_cleaned[selected_features]\n",
    "\n",
    "X_train_cleaned['has_tv_package'] = X_train_cleaned['has_tv_package'].replace({'n':'no'})\n",
    "X_train_cleaned['last_contact'] = X_train_cleaned['last_contact'].replace({'cell':'cellular'})"
   ]
  },
  {
   "cell_type": "code",
   "execution_count": 11,
   "id": "886fe6db-3b6b-4b27-b6ef-36c8c335470d",
   "metadata": {},
   "outputs": [
    {
     "data": {
      "text/plain": [
       "Index(['current_balance', 'conn_tr', 'last_contact_this_campaign_day',\n",
       "       'this_campaign', 'days_since_last_contact_previous_campaign',\n",
       "       'contacted_during_previous_campaign', 'age'],\n",
       "      dtype='object')"
      ]
     },
     "execution_count": 11,
     "metadata": {},
     "output_type": "execute_result"
    }
   ],
   "source": [
    "numerical_ix = X_train_cleaned.select_dtypes(include=['int64', 'float64']).columns\n",
    "categorical_ix = X_train_cleaned.select_dtypes(include=['object', 'bool']).columns\n",
    "\n",
    "numerical_ix"
   ]
  },
  {
   "cell_type": "code",
   "execution_count": 12,
   "id": "e4913008-988d-4922-9c28-83e314c99db7",
   "metadata": {},
   "outputs": [
    {
     "data": {
      "text/plain": [
       "Index(['job', 'married', 'education', 'arrears', 'housing', 'has_tv_package',\n",
       "       'last_contact', 'last_contact_this_campaign_month',\n",
       "       'outcome_previous_campaign'],\n",
       "      dtype='object')"
      ]
     },
     "execution_count": 12,
     "metadata": {},
     "output_type": "execute_result"
    }
   ],
   "source": [
    "categorical_ix"
   ]
  },
  {
   "cell_type": "code",
   "execution_count": 13,
   "id": "f34f3774-7bae-4c67-8d3d-4439f6fc91d3",
   "metadata": {},
   "outputs": [
    {
     "name": "stdout",
     "output_type": "stream",
     "text": [
      "[[0.         0.         0.         ... 0.         0.         0.38961039]\n",
      " [0.         0.         0.         ... 0.         0.         0.46753247]\n",
      " [0.         0.         0.         ... 0.22477064 0.01454545 0.63636364]\n",
      " ...\n",
      " [0.         0.         0.         ... 0.42545872 0.00363636 0.16883117]\n",
      " [0.         0.         0.         ... 0.50458716 0.00363636 0.28571429]\n",
      " [0.         0.         0.         ... 0.         0.         0.16883117]]\n"
     ]
    }
   ],
   "source": [
    "from sklearn.preprocessing import OneHotEncoder\n",
    "from sklearn.preprocessing import MinMaxScaler\n",
    "from sklearn.compose import ColumnTransformer\n",
    "\n",
    "t = [('cat', OneHotEncoder(drop='first', handle_unknown='infrequent_if_exist'), categorical_ix), ('num', MinMaxScaler(), numerical_ix)]\n",
    "col_transform = ColumnTransformer(transformers=t)\n",
    "\n",
    "col_transform.fit(X_train_cleaned)\n",
    "\n",
    "X_train_encoded = col_transform.transform(X_train_cleaned)\n",
    "\n",
    "X_dense = X_train_encoded.toarray()\n",
    "print(X_dense)"
   ]
  },
  {
   "cell_type": "code",
   "execution_count": 14,
   "id": "965d69b2-1db1-4b00-81d9-7903849e0f6a",
   "metadata": {},
   "outputs": [],
   "source": [
    "X_df = pd.DataFrame(X_dense, columns=col_transform.get_feature_names_out())"
   ]
  },
  {
   "cell_type": "code",
   "execution_count": 15,
   "id": "c8154d41-3311-4fe6-b99c-c72c40d0d640",
   "metadata": {},
   "outputs": [
    {
     "data": {
      "text/html": [
       "<div>\n",
       "<style scoped>\n",
       "    .dataframe tbody tr th:only-of-type {\n",
       "        vertical-align: middle;\n",
       "    }\n",
       "\n",
       "    .dataframe tbody tr th {\n",
       "        vertical-align: top;\n",
       "    }\n",
       "\n",
       "    .dataframe thead th {\n",
       "        text-align: right;\n",
       "    }\n",
       "</style>\n",
       "<table border=\"1\" class=\"dataframe\">\n",
       "  <thead>\n",
       "    <tr style=\"text-align: right;\">\n",
       "      <th></th>\n",
       "      <th>cat__job_blue-collar</th>\n",
       "      <th>cat__job_entrepreneur</th>\n",
       "      <th>cat__job_housemaid</th>\n",
       "      <th>cat__job_management</th>\n",
       "      <th>cat__job_retired</th>\n",
       "      <th>cat__job_self-employed</th>\n",
       "      <th>cat__job_services</th>\n",
       "      <th>cat__job_student</th>\n",
       "      <th>cat__job_technician</th>\n",
       "      <th>cat__job_unemployed</th>\n",
       "      <th>...</th>\n",
       "      <th>cat__outcome_previous_campaign_success</th>\n",
       "      <th>cat__outcome_previous_campaign_unknown</th>\n",
       "      <th>num__current_balance</th>\n",
       "      <th>num__conn_tr</th>\n",
       "      <th>num__last_contact_this_campaign_day</th>\n",
       "      <th>num__this_campaign</th>\n",
       "      <th>num__days_since_last_contact_previous_campaign</th>\n",
       "      <th>num__contacted_during_previous_campaign</th>\n",
       "      <th>num__age</th>\n",
       "      <th>new_contract_this_campaign</th>\n",
       "    </tr>\n",
       "  </thead>\n",
       "  <tbody>\n",
       "    <tr>\n",
       "      <th>0</th>\n",
       "      <td>0.0</td>\n",
       "      <td>0.0</td>\n",
       "      <td>0.0</td>\n",
       "      <td>1.0</td>\n",
       "      <td>0.0</td>\n",
       "      <td>0.0</td>\n",
       "      <td>0.0</td>\n",
       "      <td>0.0</td>\n",
       "      <td>0.0</td>\n",
       "      <td>0.0</td>\n",
       "      <td>...</td>\n",
       "      <td>0.0</td>\n",
       "      <td>1.0</td>\n",
       "      <td>0.096603</td>\n",
       "      <td>0.25</td>\n",
       "      <td>0.933333</td>\n",
       "      <td>0.016129</td>\n",
       "      <td>0.000000</td>\n",
       "      <td>0.000000</td>\n",
       "      <td>0.389610</td>\n",
       "      <td>yes</td>\n",
       "    </tr>\n",
       "    <tr>\n",
       "      <th>1</th>\n",
       "      <td>0.0</td>\n",
       "      <td>0.0</td>\n",
       "      <td>0.0</td>\n",
       "      <td>1.0</td>\n",
       "      <td>0.0</td>\n",
       "      <td>0.0</td>\n",
       "      <td>0.0</td>\n",
       "      <td>0.0</td>\n",
       "      <td>0.0</td>\n",
       "      <td>0.0</td>\n",
       "      <td>...</td>\n",
       "      <td>0.0</td>\n",
       "      <td>1.0</td>\n",
       "      <td>0.077248</td>\n",
       "      <td>0.75</td>\n",
       "      <td>0.666667</td>\n",
       "      <td>0.000000</td>\n",
       "      <td>0.000000</td>\n",
       "      <td>0.000000</td>\n",
       "      <td>0.467532</td>\n",
       "      <td>no</td>\n",
       "    </tr>\n",
       "    <tr>\n",
       "      <th>2</th>\n",
       "      <td>0.0</td>\n",
       "      <td>0.0</td>\n",
       "      <td>0.0</td>\n",
       "      <td>0.0</td>\n",
       "      <td>1.0</td>\n",
       "      <td>0.0</td>\n",
       "      <td>0.0</td>\n",
       "      <td>0.0</td>\n",
       "      <td>0.0</td>\n",
       "      <td>0.0</td>\n",
       "      <td>...</td>\n",
       "      <td>0.0</td>\n",
       "      <td>0.0</td>\n",
       "      <td>0.094583</td>\n",
       "      <td>0.50</td>\n",
       "      <td>0.500000</td>\n",
       "      <td>0.064516</td>\n",
       "      <td>0.224771</td>\n",
       "      <td>0.014545</td>\n",
       "      <td>0.636364</td>\n",
       "      <td>yes</td>\n",
       "    </tr>\n",
       "    <tr>\n",
       "      <th>3</th>\n",
       "      <td>0.0</td>\n",
       "      <td>1.0</td>\n",
       "      <td>0.0</td>\n",
       "      <td>0.0</td>\n",
       "      <td>0.0</td>\n",
       "      <td>0.0</td>\n",
       "      <td>0.0</td>\n",
       "      <td>0.0</td>\n",
       "      <td>0.0</td>\n",
       "      <td>0.0</td>\n",
       "      <td>...</td>\n",
       "      <td>0.0</td>\n",
       "      <td>1.0</td>\n",
       "      <td>0.077060</td>\n",
       "      <td>0.75</td>\n",
       "      <td>0.466667</td>\n",
       "      <td>0.048387</td>\n",
       "      <td>0.000000</td>\n",
       "      <td>0.000000</td>\n",
       "      <td>0.207792</td>\n",
       "      <td>no</td>\n",
       "    </tr>\n",
       "    <tr>\n",
       "      <th>4</th>\n",
       "      <td>0.0</td>\n",
       "      <td>0.0</td>\n",
       "      <td>0.0</td>\n",
       "      <td>0.0</td>\n",
       "      <td>0.0</td>\n",
       "      <td>0.0</td>\n",
       "      <td>0.0</td>\n",
       "      <td>0.0</td>\n",
       "      <td>1.0</td>\n",
       "      <td>0.0</td>\n",
       "      <td>...</td>\n",
       "      <td>0.0</td>\n",
       "      <td>1.0</td>\n",
       "      <td>0.106590</td>\n",
       "      <td>1.00</td>\n",
       "      <td>0.666667</td>\n",
       "      <td>0.000000</td>\n",
       "      <td>0.000000</td>\n",
       "      <td>0.000000</td>\n",
       "      <td>0.246753</td>\n",
       "      <td>yes</td>\n",
       "    </tr>\n",
       "    <tr>\n",
       "      <th>...</th>\n",
       "      <td>...</td>\n",
       "      <td>...</td>\n",
       "      <td>...</td>\n",
       "      <td>...</td>\n",
       "      <td>...</td>\n",
       "      <td>...</td>\n",
       "      <td>...</td>\n",
       "      <td>...</td>\n",
       "      <td>...</td>\n",
       "      <td>...</td>\n",
       "      <td>...</td>\n",
       "      <td>...</td>\n",
       "      <td>...</td>\n",
       "      <td>...</td>\n",
       "      <td>...</td>\n",
       "      <td>...</td>\n",
       "      <td>...</td>\n",
       "      <td>...</td>\n",
       "      <td>...</td>\n",
       "      <td>...</td>\n",
       "      <td>...</td>\n",
       "    </tr>\n",
       "    <tr>\n",
       "      <th>35454</th>\n",
       "      <td>1.0</td>\n",
       "      <td>0.0</td>\n",
       "      <td>0.0</td>\n",
       "      <td>0.0</td>\n",
       "      <td>0.0</td>\n",
       "      <td>0.0</td>\n",
       "      <td>0.0</td>\n",
       "      <td>0.0</td>\n",
       "      <td>0.0</td>\n",
       "      <td>0.0</td>\n",
       "      <td>...</td>\n",
       "      <td>0.0</td>\n",
       "      <td>1.0</td>\n",
       "      <td>0.075557</td>\n",
       "      <td>1.00</td>\n",
       "      <td>0.633333</td>\n",
       "      <td>0.080645</td>\n",
       "      <td>0.000000</td>\n",
       "      <td>0.000000</td>\n",
       "      <td>0.519481</td>\n",
       "      <td>no</td>\n",
       "    </tr>\n",
       "    <tr>\n",
       "      <th>35455</th>\n",
       "      <td>0.0</td>\n",
       "      <td>0.0</td>\n",
       "      <td>0.0</td>\n",
       "      <td>0.0</td>\n",
       "      <td>0.0</td>\n",
       "      <td>0.0</td>\n",
       "      <td>0.0</td>\n",
       "      <td>0.0</td>\n",
       "      <td>1.0</td>\n",
       "      <td>0.0</td>\n",
       "      <td>...</td>\n",
       "      <td>0.0</td>\n",
       "      <td>1.0</td>\n",
       "      <td>0.073791</td>\n",
       "      <td>0.75</td>\n",
       "      <td>0.266667</td>\n",
       "      <td>0.000000</td>\n",
       "      <td>0.000000</td>\n",
       "      <td>0.000000</td>\n",
       "      <td>0.454545</td>\n",
       "      <td>no</td>\n",
       "    </tr>\n",
       "    <tr>\n",
       "      <th>35456</th>\n",
       "      <td>0.0</td>\n",
       "      <td>0.0</td>\n",
       "      <td>0.0</td>\n",
       "      <td>0.0</td>\n",
       "      <td>0.0</td>\n",
       "      <td>0.0</td>\n",
       "      <td>0.0</td>\n",
       "      <td>0.0</td>\n",
       "      <td>0.0</td>\n",
       "      <td>0.0</td>\n",
       "      <td>...</td>\n",
       "      <td>0.0</td>\n",
       "      <td>0.0</td>\n",
       "      <td>0.078977</td>\n",
       "      <td>1.00</td>\n",
       "      <td>0.400000</td>\n",
       "      <td>0.016129</td>\n",
       "      <td>0.425459</td>\n",
       "      <td>0.003636</td>\n",
       "      <td>0.168831</td>\n",
       "      <td>no</td>\n",
       "    </tr>\n",
       "    <tr>\n",
       "      <th>35457</th>\n",
       "      <td>0.0</td>\n",
       "      <td>0.0</td>\n",
       "      <td>0.0</td>\n",
       "      <td>1.0</td>\n",
       "      <td>0.0</td>\n",
       "      <td>0.0</td>\n",
       "      <td>0.0</td>\n",
       "      <td>0.0</td>\n",
       "      <td>0.0</td>\n",
       "      <td>0.0</td>\n",
       "      <td>...</td>\n",
       "      <td>0.0</td>\n",
       "      <td>0.0</td>\n",
       "      <td>0.117986</td>\n",
       "      <td>0.25</td>\n",
       "      <td>0.400000</td>\n",
       "      <td>0.032258</td>\n",
       "      <td>0.504587</td>\n",
       "      <td>0.003636</td>\n",
       "      <td>0.285714</td>\n",
       "      <td>yes</td>\n",
       "    </tr>\n",
       "    <tr>\n",
       "      <th>35458</th>\n",
       "      <td>0.0</td>\n",
       "      <td>0.0</td>\n",
       "      <td>0.0</td>\n",
       "      <td>1.0</td>\n",
       "      <td>0.0</td>\n",
       "      <td>0.0</td>\n",
       "      <td>0.0</td>\n",
       "      <td>0.0</td>\n",
       "      <td>0.0</td>\n",
       "      <td>0.0</td>\n",
       "      <td>...</td>\n",
       "      <td>0.0</td>\n",
       "      <td>1.0</td>\n",
       "      <td>0.081044</td>\n",
       "      <td>0.00</td>\n",
       "      <td>0.866667</td>\n",
       "      <td>0.064516</td>\n",
       "      <td>0.000000</td>\n",
       "      <td>0.000000</td>\n",
       "      <td>0.168831</td>\n",
       "      <td>no</td>\n",
       "    </tr>\n",
       "  </tbody>\n",
       "</table>\n",
       "<p>35459 rows × 43 columns</p>\n",
       "</div>"
      ],
      "text/plain": [
       "       cat__job_blue-collar  cat__job_entrepreneur  cat__job_housemaid  \\\n",
       "0                       0.0                    0.0                 0.0   \n",
       "1                       0.0                    0.0                 0.0   \n",
       "2                       0.0                    0.0                 0.0   \n",
       "3                       0.0                    1.0                 0.0   \n",
       "4                       0.0                    0.0                 0.0   \n",
       "...                     ...                    ...                 ...   \n",
       "35454                   1.0                    0.0                 0.0   \n",
       "35455                   0.0                    0.0                 0.0   \n",
       "35456                   0.0                    0.0                 0.0   \n",
       "35457                   0.0                    0.0                 0.0   \n",
       "35458                   0.0                    0.0                 0.0   \n",
       "\n",
       "       cat__job_management  cat__job_retired  cat__job_self-employed  \\\n",
       "0                      1.0               0.0                     0.0   \n",
       "1                      1.0               0.0                     0.0   \n",
       "2                      0.0               1.0                     0.0   \n",
       "3                      0.0               0.0                     0.0   \n",
       "4                      0.0               0.0                     0.0   \n",
       "...                    ...               ...                     ...   \n",
       "35454                  0.0               0.0                     0.0   \n",
       "35455                  0.0               0.0                     0.0   \n",
       "35456                  0.0               0.0                     0.0   \n",
       "35457                  1.0               0.0                     0.0   \n",
       "35458                  1.0               0.0                     0.0   \n",
       "\n",
       "       cat__job_services  cat__job_student  cat__job_technician  \\\n",
       "0                    0.0               0.0                  0.0   \n",
       "1                    0.0               0.0                  0.0   \n",
       "2                    0.0               0.0                  0.0   \n",
       "3                    0.0               0.0                  0.0   \n",
       "4                    0.0               0.0                  1.0   \n",
       "...                  ...               ...                  ...   \n",
       "35454                0.0               0.0                  0.0   \n",
       "35455                0.0               0.0                  1.0   \n",
       "35456                0.0               0.0                  0.0   \n",
       "35457                0.0               0.0                  0.0   \n",
       "35458                0.0               0.0                  0.0   \n",
       "\n",
       "       cat__job_unemployed  ...  cat__outcome_previous_campaign_success  \\\n",
       "0                      0.0  ...                                     0.0   \n",
       "1                      0.0  ...                                     0.0   \n",
       "2                      0.0  ...                                     0.0   \n",
       "3                      0.0  ...                                     0.0   \n",
       "4                      0.0  ...                                     0.0   \n",
       "...                    ...  ...                                     ...   \n",
       "35454                  0.0  ...                                     0.0   \n",
       "35455                  0.0  ...                                     0.0   \n",
       "35456                  0.0  ...                                     0.0   \n",
       "35457                  0.0  ...                                     0.0   \n",
       "35458                  0.0  ...                                     0.0   \n",
       "\n",
       "       cat__outcome_previous_campaign_unknown  num__current_balance  \\\n",
       "0                                         1.0              0.096603   \n",
       "1                                         1.0              0.077248   \n",
       "2                                         0.0              0.094583   \n",
       "3                                         1.0              0.077060   \n",
       "4                                         1.0              0.106590   \n",
       "...                                       ...                   ...   \n",
       "35454                                     1.0              0.075557   \n",
       "35455                                     1.0              0.073791   \n",
       "35456                                     0.0              0.078977   \n",
       "35457                                     0.0              0.117986   \n",
       "35458                                     1.0              0.081044   \n",
       "\n",
       "       num__conn_tr  num__last_contact_this_campaign_day  num__this_campaign  \\\n",
       "0              0.25                             0.933333            0.016129   \n",
       "1              0.75                             0.666667            0.000000   \n",
       "2              0.50                             0.500000            0.064516   \n",
       "3              0.75                             0.466667            0.048387   \n",
       "4              1.00                             0.666667            0.000000   \n",
       "...             ...                                  ...                 ...   \n",
       "35454          1.00                             0.633333            0.080645   \n",
       "35455          0.75                             0.266667            0.000000   \n",
       "35456          1.00                             0.400000            0.016129   \n",
       "35457          0.25                             0.400000            0.032258   \n",
       "35458          0.00                             0.866667            0.064516   \n",
       "\n",
       "       num__days_since_last_contact_previous_campaign  \\\n",
       "0                                            0.000000   \n",
       "1                                            0.000000   \n",
       "2                                            0.224771   \n",
       "3                                            0.000000   \n",
       "4                                            0.000000   \n",
       "...                                               ...   \n",
       "35454                                        0.000000   \n",
       "35455                                        0.000000   \n",
       "35456                                        0.425459   \n",
       "35457                                        0.504587   \n",
       "35458                                        0.000000   \n",
       "\n",
       "       num__contacted_during_previous_campaign  num__age  \\\n",
       "0                                     0.000000  0.389610   \n",
       "1                                     0.000000  0.467532   \n",
       "2                                     0.014545  0.636364   \n",
       "3                                     0.000000  0.207792   \n",
       "4                                     0.000000  0.246753   \n",
       "...                                        ...       ...   \n",
       "35454                                 0.000000  0.519481   \n",
       "35455                                 0.000000  0.454545   \n",
       "35456                                 0.003636  0.168831   \n",
       "35457                                 0.003636  0.285714   \n",
       "35458                                 0.000000  0.168831   \n",
       "\n",
       "       new_contract_this_campaign  \n",
       "0                             yes  \n",
       "1                              no  \n",
       "2                             yes  \n",
       "3                              no  \n",
       "4                             yes  \n",
       "...                           ...  \n",
       "35454                          no  \n",
       "35455                          no  \n",
       "35456                          no  \n",
       "35457                         yes  \n",
       "35458                          no  \n",
       "\n",
       "[35459 rows x 43 columns]"
      ]
     },
     "execution_count": 15,
     "metadata": {},
     "output_type": "execute_result"
    }
   ],
   "source": [
    "df_grouped = pd.concat([X_df, y_train_cleaned], axis=1)\n",
    "df_grouped"
   ]
  },
  {
   "cell_type": "code",
   "execution_count": 16,
   "id": "5d4344cf-59e5-4914-b083-dfea35a6dd2a",
   "metadata": {},
   "outputs": [
    {
     "data": {
      "text/plain": [
       "Index(['cat__job_blue-collar', 'cat__job_entrepreneur', 'cat__job_housemaid',\n",
       "       'cat__job_management', 'cat__job_retired', 'cat__job_self-employed',\n",
       "       'cat__job_services', 'cat__job_student', 'cat__job_technician',\n",
       "       'cat__job_unemployed', 'cat__job_unknown', 'cat__married_married',\n",
       "       'cat__married_single', 'cat__education_secondary',\n",
       "       'cat__education_tertiary', 'cat__education_unknown', 'cat__arrears_yes',\n",
       "       'cat__housing_yes', 'cat__has_tv_package_yes',\n",
       "       'cat__last_contact_telephone', 'cat__last_contact_unknown',\n",
       "       'cat__last_contact_this_campaign_month_aug',\n",
       "       'cat__last_contact_this_campaign_month_dec',\n",
       "       'cat__last_contact_this_campaign_month_feb',\n",
       "       'cat__last_contact_this_campaign_month_jan',\n",
       "       'cat__last_contact_this_campaign_month_jul',\n",
       "       'cat__last_contact_this_campaign_month_jun',\n",
       "       'cat__last_contact_this_campaign_month_mar',\n",
       "       'cat__last_contact_this_campaign_month_may',\n",
       "       'cat__last_contact_this_campaign_month_nov',\n",
       "       'cat__last_contact_this_campaign_month_oct',\n",
       "       'cat__last_contact_this_campaign_month_sep',\n",
       "       'cat__outcome_previous_campaign_other',\n",
       "       'cat__outcome_previous_campaign_success',\n",
       "       'cat__outcome_previous_campaign_unknown', 'num__current_balance',\n",
       "       'num__conn_tr', 'num__last_contact_this_campaign_day',\n",
       "       'num__this_campaign', 'num__days_since_last_contact_previous_campaign',\n",
       "       'num__contacted_during_previous_campaign', 'num__age',\n",
       "       'new_contract_this_campaign'],\n",
       "      dtype='object')"
      ]
     },
     "execution_count": 16,
     "metadata": {},
     "output_type": "execute_result"
    }
   ],
   "source": [
    "df_grouped.columns"
   ]
  },
  {
   "cell_type": "code",
   "execution_count": 17,
   "id": "f0c56482-c24b-4970-81b3-0355caac66bc",
   "metadata": {},
   "outputs": [],
   "source": [
    "targetName= \"new_contract_this_campaign\"\n",
    "FeatureNames=df_grouped.columns[df_grouped.columns != targetName]\n",
    "X_final = df_grouped[FeatureNames]\n",
    "y_final = df_grouped[targetName]"
   ]
  },
  {
   "cell_type": "code",
   "execution_count": 18,
   "id": "ab3cc3c1-4c14-4b37-a563-eada3eba6d0a",
   "metadata": {},
   "outputs": [
    {
     "name": "stderr",
     "output_type": "stream",
     "text": [
      "C:\\Users\\Admin\\AppData\\Local\\Temp\\ipykernel_8652\\3002049289.py:2: DeprecationWarning: DataFrameGroupBy.apply operated on the grouping columns. This behavior is deprecated, and in a future version of pandas the grouping columns will be excluded from the operation. Either pass `include_groups=False` to exclude the groupings or explicitly select the grouping columns after groupby to silence this warning.\n",
      "  df_grouped_oversampled = g.apply(lambda x: x.sample(g.size().max(), replace=True)).reset_index(drop=True)\n"
     ]
    },
    {
     "data": {
      "text/plain": [
       "<Axes: xlabel='new_contract_this_campaign'>"
      ]
     },
     "execution_count": 18,
     "metadata": {},
     "output_type": "execute_result"
    },
    {
     "data": {
      "image/png": "[encoded data removed]",
      "text/plain": [
       "<Figure size 640x480 with 1 Axes>"
      ]
     },
     "metadata": {},
     "output_type": "display_data"
    }
   ],
   "source": [
    "g = df_grouped.groupby(targetName)\n",
    "df_grouped_oversampled = g.apply(lambda x: x.sample(g.size().max(), replace=True)).reset_index(drop=True)\n",
    "\n",
    "X_final_oversampled = df_grouped_oversampled[FeatureNames]\n",
    "y_final_oversampled = df_grouped_oversampled[targetName]\n",
    "\n",
    "y_final_oversampled.value_counts().plot(kind='bar')"
   ]
  },
  {
   "cell_type": "code",
   "execution_count": 20,
   "id": "c67b0d90-1695-4012-9996-c82c770d312d",
   "metadata": {},
   "outputs": [],
   "source": [
    "from sklearn import tree\n",
    "\n",
    "tree_clf = tree.DecisionTreeClassifier()\n",
    "tree_clf = tree_clf.fit(X_final_oversampled, y_final_oversampled)"
   ]
  },
  {
   "cell_type": "code",
   "execution_count": 21,
   "id": "c72dd81f-9950-4a92-b57d-ade75153c33e",
   "metadata": {},
   "outputs": [
    {
     "name": "stdout",
     "output_type": "stream",
     "text": [
      "cv_scores mean: 0.9555209390384171\n"
     ]
    }
   ],
   "source": [
    "from sklearn.model_selection import cross_val_score\n",
    "\n",
    "cv_scores = cross_val_score(tree_clf, X_final_oversampled, y_final_oversampled, cv=5)\n",
    "\n",
    "print(\"cv_scores mean: {}\".format(np.mean(cv_scores)))"
   ]
  },
  {
   "cell_type": "code",
   "execution_count": 23,
   "id": "3979a977-aec8-4cdb-87ab-1d8677352bda",
   "metadata": {},
   "outputs": [
    {
     "data": {
      "text/html": [
       "<style>#sk-container-id-2 {color: black;}#sk-container-id-2 pre{padding: 0;}#sk-container-id-2 div.sk-toggleable {background-color: white;}#sk-container-id-2 label.sk-toggleable__label {cursor: pointer;display: block;width: 100%;margin-bottom: 0;padding: 0.3em;box-sizing: border-box;text-align: center;}#sk-container-id-2 label.sk-toggleable__label-arrow:before {content: \"▸\";float: left;margin-right: 0.25em;color: #696969;}#sk-container-id-2 label.sk-toggleable__label-arrow:hover:before {color: black;}#sk-container-id-2 div.sk-estimator:hover label.sk-toggleable__label-arrow:before {color: black;}#sk-container-id-2 div.sk-toggleable__content {max-height: 0;max-width: 0;overflow: hidden;text-align: left;background-color: #f0f8ff;}#sk-container-id-2 div.sk-toggleable__content pre {margin: 0.2em;color: black;border-radius: 0.25em;background-color: #f0f8ff;}#sk-container-id-2 input.sk-toggleable__control:checked~div.sk-toggleable__content {max-height: 200px;max-width: 100%;overflow: auto;}#sk-container-id-2 input.sk-toggleable__control:checked~label.sk-toggleable__label-arrow:before {content: \"▾\";}#sk-container-id-2 div.sk-estimator input.sk-toggleable__control:checked~label.sk-toggleable__label {background-color: #d4ebff;}#sk-container-id-2 div.sk-label input.sk-toggleable__control:checked~label.sk-toggleable__label {background-color: #d4ebff;}#sk-container-id-2 input.sk-hidden--visually {border: 0;clip: rect(1px 1px 1px 1px);clip: rect(1px, 1px, 1px, 1px);height: 1px;margin: -1px;overflow: hidden;padding: 0;position: absolute;width: 1px;}#sk-container-id-2 div.sk-estimator {font-family: monospace;background-color: #f0f8ff;border: 1px dotted black;border-radius: 0.25em;box-sizing: border-box;margin-bottom: 0.5em;}#sk-container-id-2 div.sk-estimator:hover {background-color: #d4ebff;}#sk-container-id-2 div.sk-parallel-item::after {content: \"\";width: 100%;border-bottom: 1px solid gray;flex-grow: 1;}#sk-container-id-2 div.sk-label:hover label.sk-toggleable__label {background-color: #d4ebff;}#sk-container-id-2 div.sk-serial::before {content: \"\";position: absolute;border-left: 1px solid gray;box-sizing: border-box;top: 0;bottom: 0;left: 50%;z-index: 0;}#sk-container-id-2 div.sk-serial {display: flex;flex-direction: column;align-items: center;background-color: white;padding-right: 0.2em;padding-left: 0.2em;position: relative;}#sk-container-id-2 div.sk-item {position: relative;z-index: 1;}#sk-container-id-2 div.sk-parallel {display: flex;align-items: stretch;justify-content: center;background-color: white;position: relative;}#sk-container-id-2 div.sk-item::before, #sk-container-id-2 div.sk-parallel-item::before {content: \"\";position: absolute;border-left: 1px solid gray;box-sizing: border-box;top: 0;bottom: 0;left: 50%;z-index: -1;}#sk-container-id-2 div.sk-parallel-item {display: flex;flex-direction: column;z-index: 1;position: relative;background-color: white;}#sk-container-id-2 div.sk-parallel-item:first-child::after {align-self: flex-end;width: 50%;}#sk-container-id-2 div.sk-parallel-item:last-child::after {align-self: flex-start;width: 50%;}#sk-container-id-2 div.sk-parallel-item:only-child::after {width: 0;}#sk-container-id-2 div.sk-dashed-wrapped {border: 1px dashed gray;margin: 0 0.4em 0.5em 0.4em;box-sizing: border-box;padding-bottom: 0.4em;background-color: white;}#sk-container-id-2 div.sk-label label {font-family: monospace;font-weight: bold;display: inline-block;line-height: 1.2em;}#sk-container-id-2 div.sk-label-container {text-align: center;}#sk-container-id-2 div.sk-container {/* jupyter's `normalize.less` sets `[hidden] { display: none; }` but bootstrap.min.css set `[hidden] { display: none !important; }` so we also need the `!important` here to be able to override the default hidden behavior on the sphinx rendered scikit-learn.org. See: https://github.com/scikit-learn/scikit-learn/issues/21755 */display: inline-block !important;position: relative;}#sk-container-id-2 div.sk-text-repr-fallback {display: none;}</style><div id=\"sk-container-id-2\" class=\"sk-top-container\"><div class=\"sk-text-repr-fallback\"><pre>RandomForestClassifier(n_estimators=50, random_state=1)</pre><b>In a Jupyter environment, please rerun this cell to show the HTML representation or trust the notebook. <br />On GitHub, the HTML representation is unable to render, please try loading this page with nbviewer.org.</b></div><div class=\"sk-container\" hidden><div class=\"sk-item\"><div class=\"sk-estimator sk-toggleable\"><input class=\"sk-toggleable__control sk-hidden--visually\" id=\"sk-estimator-id-2\" type=\"checkbox\" checked><label for=\"sk-estimator-id-2\" class=\"sk-toggleable__label sk-toggleable__label-arrow\">RandomForestClassifier</label><div class=\"sk-toggleable__content\"><pre>RandomForestClassifier(n_estimators=50, random_state=1)</pre></div></div></div></div></div>"
      ],
      "text/plain": [
       "RandomForestClassifier(n_estimators=50, random_state=1)"
      ]
     },
     "execution_count": 23,
     "metadata": {},
     "output_type": "execute_result"
    }
   ],
   "source": [
    "from sklearn.ensemble import RandomForestClassifier\n",
    "\n",
    "rand_forest_clf = RandomForestClassifier(n_estimators=50, random_state=1)\n",
    "rand_forest_clf.fit(X_final_oversampled, y_final_oversampled)"
   ]
  },
  {
   "cell_type": "code",
   "execution_count": 24,
   "id": "8d6e9d76-8b41-45d0-8499-c765e686f98e",
   "metadata": {},
   "outputs": [
    {
     "data": {
      "text/html": [
       "<style>#sk-container-id-3 {color: black;}#sk-container-id-3 pre{padding: 0;}#sk-container-id-3 div.sk-toggleable {background-color: white;}#sk-container-id-3 label.sk-toggleable__label {cursor: pointer;display: block;width: 100%;margin-bottom: 0;padding: 0.3em;box-sizing: border-box;text-align: center;}#sk-container-id-3 label.sk-toggleable__label-arrow:before {content: \"▸\";float: left;margin-right: 0.25em;color: #696969;}#sk-container-id-3 label.sk-toggleable__label-arrow:hover:before {color: black;}#sk-container-id-3 div.sk-estimator:hover label.sk-toggleable__label-arrow:before {color: black;}#sk-container-id-3 div.sk-toggleable__content {max-height: 0;max-width: 0;overflow: hidden;text-align: left;background-color: #f0f8ff;}#sk-container-id-3 div.sk-toggleable__content pre {margin: 0.2em;color: black;border-radius: 0.25em;background-color: #f0f8ff;}#sk-container-id-3 input.sk-toggleable__control:checked~div.sk-toggleable__content {max-height: 200px;max-width: 100%;overflow: auto;}#sk-container-id-3 input.sk-toggleable__control:checked~label.sk-toggleable__label-arrow:before {content: \"▾\";}#sk-container-id-3 div.sk-estimator input.sk-toggleable__control:checked~label.sk-toggleable__label {background-color: #d4ebff;}#sk-container-id-3 div.sk-label input.sk-toggleable__control:checked~label.sk-toggleable__label {background-color: #d4ebff;}#sk-container-id-3 input.sk-hidden--visually {border: 0;clip: rect(1px 1px 1px 1px);clip: rect(1px, 1px, 1px, 1px);height: 1px;margin: -1px;overflow: hidden;padding: 0;position: absolute;width: 1px;}#sk-container-id-3 div.sk-estimator {font-family: monospace;background-color: #f0f8ff;border: 1px dotted black;border-radius: 0.25em;box-sizing: border-box;margin-bottom: 0.5em;}#sk-container-id-3 div.sk-estimator:hover {background-color: #d4ebff;}#sk-container-id-3 div.sk-parallel-item::after {content: \"\";width: 100%;border-bottom: 1px solid gray;flex-grow: 1;}#sk-container-id-3 div.sk-label:hover label.sk-toggleable__label {background-color: #d4ebff;}#sk-container-id-3 div.sk-serial::before {content: \"\";position: absolute;border-left: 1px solid gray;box-sizing: border-box;top: 0;bottom: 0;left: 50%;z-index: 0;}#sk-container-id-3 div.sk-serial {display: flex;flex-direction: column;align-items: center;background-color: white;padding-right: 0.2em;padding-left: 0.2em;position: relative;}#sk-container-id-3 div.sk-item {position: relative;z-index: 1;}#sk-container-id-3 div.sk-parallel {display: flex;align-items: stretch;justify-content: center;background-color: white;position: relative;}#sk-container-id-3 div.sk-item::before, #sk-container-id-3 div.sk-parallel-item::before {content: \"\";position: absolute;border-left: 1px solid gray;box-sizing: border-box;top: 0;bottom: 0;left: 50%;z-index: -1;}#sk-container-id-3 div.sk-parallel-item {display: flex;flex-direction: column;z-index: 1;position: relative;background-color: white;}#sk-container-id-3 div.sk-parallel-item:first-child::after {align-self: flex-end;width: 50%;}#sk-container-id-3 div.sk-parallel-item:last-child::after {align-self: flex-start;width: 50%;}#sk-container-id-3 div.sk-parallel-item:only-child::after {width: 0;}#sk-container-id-3 div.sk-dashed-wrapped {border: 1px dashed gray;margin: 0 0.4em 0.5em 0.4em;box-sizing: border-box;padding-bottom: 0.4em;background-color: white;}#sk-container-id-3 div.sk-label label {font-family: monospace;font-weight: bold;display: inline-block;line-height: 1.2em;}#sk-container-id-3 div.sk-label-container {text-align: center;}#sk-container-id-3 div.sk-container {/* jupyter's `normalize.less` sets `[hidden] { display: none; }` but bootstrap.min.css set `[hidden] { display: none !important; }` so we also need the `!important` here to be able to override the default hidden behavior on the sphinx rendered scikit-learn.org. See: https://github.com/scikit-learn/scikit-learn/issues/21755 */display: inline-block !important;position: relative;}#sk-container-id-3 div.sk-text-repr-fallback {display: none;}</style><div id=\"sk-container-id-3\" class=\"sk-top-container\"><div class=\"sk-text-repr-fallback\"><pre>AdaBoostClassifier(random_state=1)</pre><b>In a Jupyter environment, please rerun this cell to show the HTML representation or trust the notebook. <br />On GitHub, the HTML representation is unable to render, please try loading this page with nbviewer.org.</b></div><div class=\"sk-container\" hidden><div class=\"sk-item\"><div class=\"sk-estimator sk-toggleable\"><input class=\"sk-toggleable__control sk-hidden--visually\" id=\"sk-estimator-id-3\" type=\"checkbox\" checked><label for=\"sk-estimator-id-3\" class=\"sk-toggleable__label sk-toggleable__label-arrow\">AdaBoostClassifier</label><div class=\"sk-toggleable__content\"><pre>AdaBoostClassifier(random_state=1)</pre></div></div></div></div></div>"
      ],
      "text/plain": [
       "AdaBoostClassifier(random_state=1)"
      ]
     },
     "execution_count": 24,
     "metadata": {},
     "output_type": "execute_result"
    }
   ],
   "source": [
    "from sklearn.ensemble import AdaBoostClassifier\n",
    "\n",
    "adaboost_clf = AdaBoostClassifier(n_estimators=50, random_state=1)\n",
    "adaboost_clf.fit(X_final_oversampled, y_final_oversampled)"
   ]
  },
  {
   "cell_type": "code",
   "execution_count": 25,
   "id": "2fef3886-4c27-4b5e-8d35-ace598c9c456",
   "metadata": {},
   "outputs": [
    {
     "name": "stdout",
     "output_type": "stream",
     "text": [
      "Decision Tree CV Score: 0.9556259611366607\n",
      "Random Forest CV Score: 0.9789420205979606\n",
      "Adaboost CV Score:      0.7180891873538067\n"
     ]
    }
   ],
   "source": [
    "tree_cv_scores = cross_val_score(tree_clf, X_final_oversampled, y_final_oversampled, cv=5)\n",
    "rand_forest_cv_scores = cross_val_score(rand_forest_clf, X_final_oversampled, y_final_oversampled, cv=5)\n",
    "adaboost_cv_scores = cross_val_score(adaboost_clf, X_final_oversampled, y_final_oversampled, cv=5)\n",
    "\n",
    "print(\"Decision Tree CV Score: {}\".format(np.mean(tree_cv_scores)))\n",
    "print(\"Random Forest CV Score: {}\".format(np.mean(rand_forest_cv_scores)))\n",
    "print(\"Adaboost CV Score:      {}\".format(np.mean(adaboost_cv_scores)))"
   ]
  },
  {
   "cell_type": "code",
   "execution_count": 26,
   "id": "d2bdbaae-8c70-4f68-9949-7e12f873f806",
   "metadata": {},
   "outputs": [
    {
     "data": {
      "text/html": [
       "<style>#sk-container-id-4 {color: black;}#sk-container-id-4 pre{padding: 0;}#sk-container-id-4 div.sk-toggleable {background-color: white;}#sk-container-id-4 label.sk-toggleable__label {cursor: pointer;display: block;width: 100%;margin-bottom: 0;padding: 0.3em;box-sizing: border-box;text-align: center;}#sk-container-id-4 label.sk-toggleable__label-arrow:before {content: \"▸\";float: left;margin-right: 0.25em;color: #696969;}#sk-container-id-4 label.sk-toggleable__label-arrow:hover:before {color: black;}#sk-container-id-4 div.sk-estimator:hover label.sk-toggleable__label-arrow:before {color: black;}#sk-container-id-4 div.sk-toggleable__content {max-height: 0;max-width: 0;overflow: hidden;text-align: left;background-color: #f0f8ff;}#sk-container-id-4 div.sk-toggleable__content pre {margin: 0.2em;color: black;border-radius: 0.25em;background-color: #f0f8ff;}#sk-container-id-4 input.sk-toggleable__control:checked~div.sk-toggleable__content {max-height: 200px;max-width: 100%;overflow: auto;}#sk-container-id-4 input.sk-toggleable__control:checked~label.sk-toggleable__label-arrow:before {content: \"▾\";}#sk-container-id-4 div.sk-estimator input.sk-toggleable__control:checked~label.sk-toggleable__label {background-color: #d4ebff;}#sk-container-id-4 div.sk-label input.sk-toggleable__control:checked~label.sk-toggleable__label {background-color: #d4ebff;}#sk-container-id-4 input.sk-hidden--visually {border: 0;clip: rect(1px 1px 1px 1px);clip: rect(1px, 1px, 1px, 1px);height: 1px;margin: -1px;overflow: hidden;padding: 0;position: absolute;width: 1px;}#sk-container-id-4 div.sk-estimator {font-family: monospace;background-color: #f0f8ff;border: 1px dotted black;border-radius: 0.25em;box-sizing: border-box;margin-bottom: 0.5em;}#sk-container-id-4 div.sk-estimator:hover {background-color: #d4ebff;}#sk-container-id-4 div.sk-parallel-item::after {content: \"\";width: 100%;border-bottom: 1px solid gray;flex-grow: 1;}#sk-container-id-4 div.sk-label:hover label.sk-toggleable__label {background-color: #d4ebff;}#sk-container-id-4 div.sk-serial::before {content: \"\";position: absolute;border-left: 1px solid gray;box-sizing: border-box;top: 0;bottom: 0;left: 50%;z-index: 0;}#sk-container-id-4 div.sk-serial {display: flex;flex-direction: column;align-items: center;background-color: white;padding-right: 0.2em;padding-left: 0.2em;position: relative;}#sk-container-id-4 div.sk-item {position: relative;z-index: 1;}#sk-container-id-4 div.sk-parallel {display: flex;align-items: stretch;justify-content: center;background-color: white;position: relative;}#sk-container-id-4 div.sk-item::before, #sk-container-id-4 div.sk-parallel-item::before {content: \"\";position: absolute;border-left: 1px solid gray;box-sizing: border-box;top: 0;bottom: 0;left: 50%;z-index: -1;}#sk-container-id-4 div.sk-parallel-item {display: flex;flex-direction: column;z-index: 1;position: relative;background-color: white;}#sk-container-id-4 div.sk-parallel-item:first-child::after {align-self: flex-end;width: 50%;}#sk-container-id-4 div.sk-parallel-item:last-child::after {align-self: flex-start;width: 50%;}#sk-container-id-4 div.sk-parallel-item:only-child::after {width: 0;}#sk-container-id-4 div.sk-dashed-wrapped {border: 1px dashed gray;margin: 0 0.4em 0.5em 0.4em;box-sizing: border-box;padding-bottom: 0.4em;background-color: white;}#sk-container-id-4 div.sk-label label {font-family: monospace;font-weight: bold;display: inline-block;line-height: 1.2em;}#sk-container-id-4 div.sk-label-container {text-align: center;}#sk-container-id-4 div.sk-container {/* jupyter's `normalize.less` sets `[hidden] { display: none; }` but bootstrap.min.css set `[hidden] { display: none !important; }` so we also need the `!important` here to be able to override the default hidden behavior on the sphinx rendered scikit-learn.org. See: https://github.com/scikit-learn/scikit-learn/issues/21755 */display: inline-block !important;position: relative;}#sk-container-id-4 div.sk-text-repr-fallback {display: none;}</style><div id=\"sk-container-id-4\" class=\"sk-top-container\"><div class=\"sk-text-repr-fallback\"><pre>MLPClassifier(activation=&#x27;logistic&#x27;, hidden_layer_sizes=10, max_iter=2000)</pre><b>In a Jupyter environment, please rerun this cell to show the HTML representation or trust the notebook. <br />On GitHub, the HTML representation is unable to render, please try loading this page with nbviewer.org.</b></div><div class=\"sk-container\" hidden><div class=\"sk-item\"><div class=\"sk-estimator sk-toggleable\"><input class=\"sk-toggleable__control sk-hidden--visually\" id=\"sk-estimator-id-4\" type=\"checkbox\" checked><label for=\"sk-estimator-id-4\" class=\"sk-toggleable__label sk-toggleable__label-arrow\">MLPClassifier</label><div class=\"sk-toggleable__content\"><pre>MLPClassifier(activation=&#x27;logistic&#x27;, hidden_layer_sizes=10, max_iter=2000)</pre></div></div></div></div></div>"
      ],
      "text/plain": [
       "MLPClassifier(activation='logistic', hidden_layer_sizes=10, max_iter=2000)"
      ]
     },
     "execution_count": 26,
     "metadata": {},
     "output_type": "execute_result"
    }
   ],
   "source": [
    "from sklearn.neural_network import MLPClassifier\n",
    "\n",
    "mlp_model = MLPClassifier(solver='adam', hidden_layer_sizes=(10), max_iter=2000, activation='logistic')\n",
    "\n",
    "mlp_model.fit(X_final_oversampled, y_final_oversampled)"
   ]
  },
  {
   "cell_type": "code",
   "execution_count": 27,
   "id": "4e193fdf-639f-4971-8e04-7a77ee0ac80b",
   "metadata": {},
   "outputs": [],
   "source": [
    "mlp_cv_scores = cross_val_score(mlp_model, X_final_oversampled, y_final_oversampled, cv=5)"
   ]
  },
  {
   "cell_type": "code",
   "execution_count": 28,
   "id": "c41d49d3-6b4b-48be-8239-a6bad95d8837",
   "metadata": {},
   "outputs": [
    {
     "name": "stdout",
     "output_type": "stream",
     "text": [
      "MLP CV Score: 0.7342107987426274\n"
     ]
    }
   ],
   "source": [
    "print(\"MLP CV Score: {}\".format(np.mean(mlp_cv_scores)))"
   ]
  },
  {
   "cell_type": "code",
   "execution_count": null,
   "id": "dbf8cba4-ba22-4304-a53b-7a1fa32d0dad",
   "metadata": {},
   "outputs": [],
   "source": [
    "from sklearn.model_selection import GridSearchCV\n",
    "\n",
    "param_grid = {\"n_estimators\": [(50),(100),(300),(700)],\n",
    "              \"min_samples_split\": [(2),(5),(10),(20)],\n",
    "              \"max_features\": [0.3,0.5,None]}\n",
    "\n",
    "grid = GridSearchCV(rand_forest_clf, param_grid, cv=5, n_jobs=1,verbose=2).fit(X_final_oversampled, y_final_oversampled)\n",
    "randforest_model_tuned=grid.best_estimator_"
   ]
  },
  {
   "cell_type": "code",
   "execution_count": null,
   "id": "39397bea-e130-4d3f-8b0b-98b7ee0a6114",
   "metadata": {},
   "outputs": [],
   "source": [
    "randforest_model_tuned=grid.best_estimator_\n",
    "print(\"Best Hyperparameters found: \" + str(grid.best_params_))\n",
    "print(\"Cross Validation accuracy: \" + str(randforest_tuned.score(X_final_oversampled,y_final_oversampled))"
   ]
  }
 ],
 "metadata": {
  "kernelspec": {
   "display_name": "Python 3 (ipykernel)",
   "language": "python",
   "name": "python3"
  },
  "language_info": {
   "codemirror_mode": {
    "name": "ipython",
    "version": 3
   },
   "file_extension": ".py",
   "mimetype": "text/x-python",
   "name": "python",
   "nbconvert_exporter": "python",
   "pygments_lexer": "ipython3",
   "version": "3.12.7"
  }
 },
 "nbformat": 4,
 "nbformat_minor": 5
}
